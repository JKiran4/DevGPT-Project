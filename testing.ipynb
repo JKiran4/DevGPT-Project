{
 "cells": [
  {
   "cell_type": "code",
   "execution_count": 25,
   "metadata": {},
   "outputs": [],
   "source": [
    "import pandas as pd\n",
    "import json\n",
    "from pandas import json_normalize\n",
    "\n",
    "# Step 1: Open and load the JSON file\n",
    "with open(\"20230727_195816_hn_sharings.json\", 'r') as file:\n",
    "    data = json.load(file)\n",
    "\n",
    "# Step 2: Flatten the 'Sources' part without the 'ChatgptSharing'\n",
    "sources_df = json_normalize(data['Sources'], \n",
    "                            meta=['Type', 'ID', 'URL', 'Author', 'Points', 'AttachedURL', 'Title', 'StoryText', 'CreatedAt', 'CommentsTotalCount'],\n",
    "                            meta_prefix='source_',  # Add a prefix to avoid conflicts\n",
    "                            errors='ignore')\n",
    "\n",
    "# # Step 3: Flatten the 'ChatgptSharing' part separately, excluding URL in meta\n",
    "# gpt_sharing_df = json_normalize(data['Sources'], \n",
    "#                                 record_path=['ChatgptSharing'], \n",
    "#                                 meta=['Type', 'ID', 'Author', 'Points', 'AttachedURL', 'Title', 'StoryText', 'CreatedAt', 'CommentsTotalCount'],  # Exclude 'URL' from here\n",
    "#                                 errors='ignore')\n",
    "\n",
    "# # Step 4: Merge the two DataFrames (sources_df and gpt_sharing_df) on a common key (if exists)\n",
    "# merged_df = pd.merge(sources_df, gpt_sharing_df, on='ID', how='outer', suffixes=('_source', '_gpt'))\n",
    "\n",
    "# # Step 5: Display the resulting DataFrame\n",
    "# print(merged_df)\n",
    "\n",
    "# Step 6: Save to CSV\n",
    "sources_df.to_csv(\"full_data.csv\", index=False)\n"
   ]
  }
 ],
 "metadata": {
  "kernelspec": {
   "display_name": "base",
   "language": "python",
   "name": "python3"
  },
  "language_info": {
   "codemirror_mode": {
    "name": "ipython",
    "version": 3
   },
   "file_extension": ".py",
   "mimetype": "text/x-python",
   "name": "python",
   "nbconvert_exporter": "python",
   "pygments_lexer": "ipython3",
   "version": "3.12.3"
  }
 },
 "nbformat": 4,
 "nbformat_minor": 2
}
