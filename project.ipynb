{
 "cells": [
  {
   "cell_type": "code",
   "execution_count": null,
   "metadata": {},
   "outputs": [],
   "source": [
    "import os\n",
    "import pandas as pd"
   ]
  },
  {
   "cell_type": "code",
   "execution_count": null,
   "metadata": {},
   "outputs": [],
   "source": [
    "# don't have to run this every time! re-import the exported csv to save time.\n",
    "\n",
    "dirs = [(\"DevGPT/\" + d) for d in os.listdir(\"DevGPT\") if os.path.isdir(\"DevGPT/\" + d)] # modify this to limit snapshots\n",
    "\n",
    "files = []\n",
    "for dir in dirs:\n",
    "    for f in os.listdir(dir):\n",
    "        if f[-5:] == \".json\": files.append(dir + \"/\" + f)\n",
    "\n",
    "print(files)\n",
    "\n",
    "imports = []\n",
    "for f in files:\n",
    "    if f[-5:] == \".json\":  # this one pulls all files\n",
    "        trydf = pd.read_json(f)\n",
    "        trydf = pd.json_normalize(trydf[\"Sources\"])\n",
    "        trydf[\"filepath\"] = f\n",
    "        imports.append(trydf)\n",
    "\n",
    "df = pd.concat(imports, ignore_index = True)\n",
    "df.to_csv(\"df-export.csv\", index = False)"
   ]
  },
  {
   "cell_type": "code",
   "execution_count": null,
   "metadata": {},
   "outputs": [],
   "source": [
    "dfi = pd.read_csv(\"df-export.csv\")"
   ]
  },
  {
   "cell_type": "code",
   "execution_count": null,
   "metadata": {},
   "outputs": [],
   "source": [
    "hn_q = \"filepath.str.contains('hn_sharings.json')\"\n",
    "pr_q = \"filepath.str.contains('pr_sharings.json')\"\n",
    "is_q = \"filepath.str.contains('issue_sharings.json')\"\n",
    "di_q = \"filepath.str.contains('discussion_sharings.json')\"\n",
    "co_q = \"filepath.str.contains('commit_sharings.json')\"\n",
    "fi_q = \"filepath.str.contains('file_sharings.json')\"\n",
    "\n",
    "dfi.query(hn_q)"
   ]
  }
 ],
 "metadata": {
  "kernelspec": {
   "display_name": "base",
   "language": "python",
   "name": "python3"
  },
  "language_info": {
   "codemirror_mode": {
    "name": "ipython",
    "version": 3
   },
   "file_extension": ".py",
   "mimetype": "text/x-python",
   "name": "python",
   "nbconvert_exporter": "python",
   "pygments_lexer": "ipython3",
   "version": "3.12.3"
  }
 },
 "nbformat": 4,
 "nbformat_minor": 2
}
