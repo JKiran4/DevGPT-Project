{
 "cells": [
  {
   "cell_type": "code",
   "execution_count": 1,
   "metadata": {},
   "outputs": [],
   "source": [
    "import os\n",
    "import pandas as pd"
   ]
  },
  {
   "cell_type": "code",
   "execution_count": 2,
   "metadata": {},
   "outputs": [
    {
     "name": "stdout",
     "output_type": "stream",
     "text": [
      "['DevGPT/snapshot_20230727/20230727_195816_hn_sharings.json', 'DevGPT/snapshot_20230727/20230727_195927_pr_sharings.json', 'DevGPT/snapshot_20230727/20230727_195941_issue_sharings.json', 'DevGPT/snapshot_20230727/20230727_195954_discussion_sharings.json', 'DevGPT/snapshot_20230727/20230727_200003_commit_sharings.json', 'DevGPT/snapshot_20230727/20230727_200102_file_sharings.json', 'DevGPT/snapshot_20230803/20230803_093947_pr_sharings.json', 'DevGPT/snapshot_20230803/20230803_094705_issue_sharings.json', 'DevGPT/snapshot_20230803/20230803_094811_discussion_sharings.json', 'DevGPT/snapshot_20230803/20230803_095317_commit_sharings.json', 'DevGPT/snapshot_20230803/20230803_103605_file_sharings.json', 'DevGPT/snapshot_20230803/20230803_105332_hn_sharings.json', 'DevGPT/snapshot_20230810/20230810_123110_pr_sharings.json', 'DevGPT/snapshot_20230810/20230810_123938_issue_sharings.json', 'DevGPT/snapshot_20230810/20230810_124048_discussion_sharings.json', 'DevGPT/snapshot_20230810/20230810_124807_commit_sharings.json', 'DevGPT/snapshot_20230810/20230810_133121_file_sharings.json', 'DevGPT/snapshot_20230810/20230810_134011_hn_sharings.json', 'DevGPT/snapshot_20230817/20230817_125147_pr_sharings.json', 'DevGPT/snapshot_20230817/20230817_130502_issue_sharings.json', 'DevGPT/snapshot_20230817/20230817_130721_discussion_sharings.json', 'DevGPT/snapshot_20230817/20230817_131244_commit_sharings.json', 'DevGPT/snapshot_20230817/20230817_151344_file_sharings.json', 'DevGPT/snapshot_20230817/20230817_170022_hn_sharings.json', 'DevGPT/snapshot_20230824/20230824_100450_pr_sharings.json', 'DevGPT/snapshot_20230824/20230824_101836_issue_sharings.json', 'DevGPT/snapshot_20230824/20230824_102000_discussion_sharings.json', 'DevGPT/snapshot_20230824/20230824_102435_commit_sharings.json', 'DevGPT/snapshot_20230824/20230824_111114_file_sharings.json', 'DevGPT/snapshot_20230824/20230824_112153_hn_sharings.json', 'DevGPT/snapshot_20230831/20230831_060603_pr_sharings.json', 'DevGPT/snapshot_20230831/20230831_061759_issue_sharings.json', 'DevGPT/snapshot_20230831/20230831_061926_discussion_sharings.json', 'DevGPT/snapshot_20230831/20230831_063412_commit_sharings.json', 'DevGPT/snapshot_20230831/20230831_072722_file_sharings.json', 'DevGPT/snapshot_20230831/20230831_073827_hn_sharings.json']\n"
     ]
    }
   ],
   "source": [
    "# don't have to run this every time! re-import the exported csv to save time.\n",
    "\n",
    "dirs = [(\"DevGPT/\" + d) for d in os.listdir(\"DevGPT\") if os.path.isdir(\"DevGPT/\" + d)] # modify this to limit snapshots\n",
    "\n",
    "files = []\n",
    "for dir in dirs:\n",
    "    for f in os.listdir(dir):\n",
    "        if f[-5:] == \".json\": files.append(dir + \"/\" + f)\n",
    "\n",
    "print(files)\n",
    "\n",
    "imports = []\n",
    "for f in files:\n",
    "    if f[-5:] == \".json\":  # this one pulls all files\n",
    "        trydf = pd.read_json(f)\n",
    "        trydf = pd.json_normalize(trydf[\"Sources\"])\n",
    "        trydf[\"filepath\"] = f\n",
    "        imports.append(trydf)\n",
    "\n",
    "df = pd.concat(imports, ignore_index = True)\n",
    "df.to_csv(\"df-export.csv\")"
   ]
  },
  {
   "cell_type": "code",
   "execution_count": 3,
   "metadata": {},
   "outputs": [],
   "source": [
    "dfi = pd.read_csv(\"df-export.csv\")"
   ]
  },
  {
   "cell_type": "code",
   "execution_count": 8,
   "metadata": {},
   "outputs": [
    {
     "data": {
      "text/plain": [
       "'DevGPT/snapshot_20230727/20230727_200102_file_sharings.json'"
      ]
     },
     "execution_count": 8,
     "metadata": {},
     "output_type": "execute_result"
    }
   ],
   "source": []
  }
 ],
 "metadata": {
  "kernelspec": {
   "display_name": "base",
   "language": "python",
   "name": "python3"
  },
  "language_info": {
   "codemirror_mode": {
    "name": "ipython",
    "version": 3
   },
   "file_extension": ".py",
   "mimetype": "text/x-python",
   "name": "python",
   "nbconvert_exporter": "python",
   "pygments_lexer": "ipython3",
   "version": "3.12.3"
  }
 },
 "nbformat": 4,
 "nbformat_minor": 2
}
